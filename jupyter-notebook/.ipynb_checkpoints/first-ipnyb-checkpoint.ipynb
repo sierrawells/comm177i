{
 "cells": [
  {
   "cell_type": "code",
   "execution_count": 1,
   "id": "0fff543c-6f84-456a-a069-db476d0b0810",
   "metadata": {
    "tags": []
   },
   "outputs": [
    {
     "data": {
      "text/plain": [
       "4"
      ]
     },
     "execution_count": 1,
     "metadata": {},
     "output_type": "execute_result"
    }
   ],
   "source": [
    "2+2"
   ]
  },
  {
   "cell_type": "code",
   "execution_count": 2,
   "id": "9431301e-f7b8-4b1a-999e-6269f744a3ba",
   "metadata": {
    "tags": []
   },
   "outputs": [
    {
     "data": {
      "text/plain": [
       "64"
      ]
     },
     "execution_count": 2,
     "metadata": {},
     "output_type": "execute_result"
    }
   ],
   "source": [
    "8**2"
   ]
  },
  {
   "cell_type": "code",
   "execution_count": 3,
   "id": "74cba3d0-d1ea-42e1-afa0-fbeaca78bc3c",
   "metadata": {
    "tags": []
   },
   "outputs": [
    {
     "data": {
      "text/plain": [
       "16"
      ]
     },
     "execution_count": 3,
     "metadata": {},
     "output_type": "execute_result"
    }
   ],
   "source": [
    "8*2"
   ]
  },
  {
   "cell_type": "code",
   "execution_count": 4,
   "id": "b11fefe3-6fe5-4fce-9ee5-8278218d7a0f",
   "metadata": {
    "tags": []
   },
   "outputs": [],
   "source": [
    "number = 3"
   ]
  },
  {
   "cell_type": "code",
   "execution_count": 6,
   "id": "0c5f7d0d-5e43-4d3f-afca-1bc1b11e1a86",
   "metadata": {
    "tags": []
   },
   "outputs": [
    {
     "data": {
      "text/plain": [
       "9"
      ]
     },
     "execution_count": 6,
     "metadata": {},
     "output_type": "execute_result"
    }
   ],
   "source": [
    "number + 6"
   ]
  },
  {
   "cell_type": "markdown",
   "id": "af4d6477-8d54-42a8-a8e4-952c876b9bac",
   "metadata": {},
   "source": [
    "# Heading"
   ]
  },
  {
   "cell_type": "markdown",
   "id": "487605dd-60bb-4c80-a179-e95e023e8dc8",
   "metadata": {},
   "source": [
    "- dashed\n",
    "- list"
   ]
  },
  {
   "cell_type": "code",
   "execution_count": 82,
   "id": "3216c2c5-bae8-4a65-b611-aa1b297ff712",
   "metadata": {
    "tags": []
   },
   "outputs": [
    {
     "ename": "ModuleNotFoundError",
     "evalue": "No module named 'altair'",
     "output_type": "error",
     "traceback": [
      "\u001b[1;31m---------------------------------------------------------------------------\u001b[0m",
      "\u001b[1;31mModuleNotFoundError\u001b[0m                       Traceback (most recent call last)",
      "Cell \u001b[1;32mIn[82], line 2\u001b[0m\n\u001b[0;32m      1\u001b[0m \u001b[38;5;28;01mimport\u001b[39;00m \u001b[38;5;21;01mpandas\u001b[39;00m \u001b[38;5;28;01mas\u001b[39;00m \u001b[38;5;21;01mpd\u001b[39;00m\n\u001b[1;32m----> 2\u001b[0m \u001b[38;5;28;01mimport\u001b[39;00m \u001b[38;5;21;01maltair\u001b[39;00m\n",
      "\u001b[1;31mModuleNotFoundError\u001b[0m: No module named 'altair'"
     ]
    }
   ],
   "source": [
    "import pandas as pd\n",
    "import altair"
   ]
  },
  {
   "cell_type": "code",
   "execution_count": 8,
   "id": "b8811341-a22c-40ff-870d-6a2c446bd730",
   "metadata": {
    "tags": []
   },
   "outputs": [],
   "source": [
    "my_list = [1, 2, 4, 69]"
   ]
  },
  {
   "cell_type": "code",
   "execution_count": 9,
   "id": "5e378adb-0347-4548-a946-bfd6d388a524",
   "metadata": {
    "tags": []
   },
   "outputs": [],
   "source": [
    "my_series = pd.Series(my_list)"
   ]
  },
  {
   "cell_type": "code",
   "execution_count": 10,
   "id": "21664ede-43c0-48e7-b169-355f6e374f7d",
   "metadata": {
    "tags": []
   },
   "outputs": [
    {
     "data": {
      "text/plain": [
       "0     1\n",
       "1     2\n",
       "2     4\n",
       "3    69\n",
       "dtype: int64"
      ]
     },
     "execution_count": 10,
     "metadata": {},
     "output_type": "execute_result"
    }
   ],
   "source": [
    "my_series"
   ]
  },
  {
   "cell_type": "code",
   "execution_count": 11,
   "id": "d8b1d342-0e95-4aa4-b12a-8b0069c3671d",
   "metadata": {
    "tags": []
   },
   "outputs": [
    {
     "data": {
      "text/plain": [
       "76"
      ]
     },
     "execution_count": 11,
     "metadata": {},
     "output_type": "execute_result"
    }
   ],
   "source": [
    "my_series.sum()"
   ]
  },
  {
   "cell_type": "code",
   "execution_count": 12,
   "id": "b996f35b-ef0f-4198-b2bc-22628043c5ec",
   "metadata": {
    "tags": []
   },
   "outputs": [
    {
     "data": {
      "text/plain": [
       "69"
      ]
     },
     "execution_count": 12,
     "metadata": {},
     "output_type": "execute_result"
    }
   ],
   "source": [
    "my_series.max()"
   ]
  },
  {
   "cell_type": "code",
   "execution_count": 14,
   "id": "edbe4ac1-63a2-40de-86ae-d61fd805e5f5",
   "metadata": {
    "tags": []
   },
   "outputs": [
    {
     "data": {
      "text/plain": [
       "69"
      ]
     },
     "execution_count": 14,
     "metadata": {},
     "output_type": "execute_result"
    }
   ],
   "source": [
    "max(my_list)"
   ]
  },
  {
   "cell_type": "code",
   "execution_count": 15,
   "id": "fd87bc33-ad1b-4741-8e6a-edb870b12047",
   "metadata": {
    "tags": []
   },
   "outputs": [
    {
     "data": {
      "text/plain": [
       "1"
      ]
     },
     "execution_count": 15,
     "metadata": {},
     "output_type": "execute_result"
    }
   ],
   "source": [
    "my_series.min()"
   ]
  },
  {
   "cell_type": "code",
   "execution_count": 16,
   "id": "3772781d-23e9-4e95-a277-77376c5bc9b9",
   "metadata": {
    "tags": []
   },
   "outputs": [
    {
     "data": {
      "text/plain": [
       "19.0"
      ]
     },
     "execution_count": 16,
     "metadata": {},
     "output_type": "execute_result"
    }
   ],
   "source": [
    "my_series.mean()"
   ]
  },
  {
   "cell_type": "code",
   "execution_count": 17,
   "id": "45c0c4ba-086b-4e92-99df-c8836b9785ee",
   "metadata": {
    "tags": []
   },
   "outputs": [
    {
     "data": {
      "text/plain": [
       "3.0"
      ]
     },
     "execution_count": 17,
     "metadata": {},
     "output_type": "execute_result"
    }
   ],
   "source": [
    "my_series.median()"
   ]
  },
  {
   "cell_type": "code",
   "execution_count": 18,
   "id": "91c734ad-2252-4e28-806c-dc0f157e7d96",
   "metadata": {
    "tags": []
   },
   "outputs": [
    {
     "data": {
      "text/plain": [
       "33.35665850571167"
      ]
     },
     "execution_count": 18,
     "metadata": {},
     "output_type": "execute_result"
    }
   ],
   "source": [
    "my_series.std()"
   ]
  },
  {
   "cell_type": "code",
   "execution_count": 19,
   "id": "bba2dbf9-c114-41d1-a351-e8fc5ddb6d26",
   "metadata": {
    "tags": []
   },
   "outputs": [
    {
     "data": {
      "text/plain": [
       "count     4.000000\n",
       "mean     19.000000\n",
       "std      33.356659\n",
       "min       1.000000\n",
       "25%       1.750000\n",
       "50%       3.000000\n",
       "75%      20.250000\n",
       "max      69.000000\n",
       "dtype: float64"
      ]
     },
     "execution_count": 19,
     "metadata": {},
     "output_type": "execute_result"
    }
   ],
   "source": [
    "my_series.describe()"
   ]
  },
  {
   "cell_type": "code",
   "execution_count": 20,
   "id": "238b272e-a665-44b2-b6a8-5b5ea1b5d5ed",
   "metadata": {
    "tags": []
   },
   "outputs": [],
   "source": [
    "accident_list = pd.read_csv(\"https://raw.githubusercontent.com/palewire/first-python-notebook/main/docs/src/_static/ntsb-accidents.csv\")"
   ]
  },
  {
   "cell_type": "code",
   "execution_count": 21,
   "id": "a6581fb9-7a19-4f07-8526-bbca3c93a831",
   "metadata": {
    "tags": []
   },
   "outputs": [
    {
     "data": {
      "text/html": [
       "<div>\n",
       "<style scoped>\n",
       "    .dataframe tbody tr th:only-of-type {\n",
       "        vertical-align: middle;\n",
       "    }\n",
       "\n",
       "    .dataframe tbody tr th {\n",
       "        vertical-align: top;\n",
       "    }\n",
       "\n",
       "    .dataframe thead th {\n",
       "        text-align: right;\n",
       "    }\n",
       "</style>\n",
       "<table border=\"1\" class=\"dataframe\">\n",
       "  <thead>\n",
       "    <tr style=\"text-align: right;\">\n",
       "      <th></th>\n",
       "      <th>event_id</th>\n",
       "      <th>ntsb_make</th>\n",
       "      <th>ntsb_model</th>\n",
       "      <th>ntsb_number</th>\n",
       "      <th>year</th>\n",
       "      <th>date</th>\n",
       "      <th>city</th>\n",
       "      <th>state</th>\n",
       "      <th>country</th>\n",
       "      <th>total_fatalities</th>\n",
       "      <th>latimes_make</th>\n",
       "      <th>latimes_model</th>\n",
       "      <th>latimes_make_and_model</th>\n",
       "    </tr>\n",
       "  </thead>\n",
       "  <tbody>\n",
       "    <tr>\n",
       "      <th>0</th>\n",
       "      <td>20061222X01838</td>\n",
       "      <td>BELL</td>\n",
       "      <td>407</td>\n",
       "      <td>NYC07FA048</td>\n",
       "      <td>2006</td>\n",
       "      <td>12/14/06 00:00:00</td>\n",
       "      <td>DAGSBORO</td>\n",
       "      <td>DE</td>\n",
       "      <td>USA</td>\n",
       "      <td>2</td>\n",
       "      <td>BELL</td>\n",
       "      <td>407</td>\n",
       "      <td>BELL 407</td>\n",
       "    </tr>\n",
       "    <tr>\n",
       "      <th>1</th>\n",
       "      <td>20060817X01187</td>\n",
       "      <td>ROBINSON</td>\n",
       "      <td>R22 BETA</td>\n",
       "      <td>LAX06LA257</td>\n",
       "      <td>2006</td>\n",
       "      <td>08/10/06 00:00:00</td>\n",
       "      <td>TUCSON</td>\n",
       "      <td>AZ</td>\n",
       "      <td>USA</td>\n",
       "      <td>1</td>\n",
       "      <td>ROBINSON</td>\n",
       "      <td>R22</td>\n",
       "      <td>ROBINSON R22</td>\n",
       "    </tr>\n",
       "    <tr>\n",
       "      <th>2</th>\n",
       "      <td>20060111X00044</td>\n",
       "      <td>ROBINSON</td>\n",
       "      <td>R44</td>\n",
       "      <td>MIA06FA039</td>\n",
       "      <td>2006</td>\n",
       "      <td>01/01/06 00:00:00</td>\n",
       "      <td>GRAND RIDGE</td>\n",
       "      <td>FL</td>\n",
       "      <td>USA</td>\n",
       "      <td>3</td>\n",
       "      <td>ROBINSON</td>\n",
       "      <td>R44</td>\n",
       "      <td>ROBINSON R44</td>\n",
       "    </tr>\n",
       "    <tr>\n",
       "      <th>3</th>\n",
       "      <td>20060419X00461</td>\n",
       "      <td>ROBINSON</td>\n",
       "      <td>R44 II</td>\n",
       "      <td>DFW06FA102</td>\n",
       "      <td>2006</td>\n",
       "      <td>04/13/06 00:00:00</td>\n",
       "      <td>FREDERICKSBURG</td>\n",
       "      <td>TX</td>\n",
       "      <td>USA</td>\n",
       "      <td>2</td>\n",
       "      <td>ROBINSON</td>\n",
       "      <td>R44</td>\n",
       "      <td>ROBINSON R44</td>\n",
       "    </tr>\n",
       "    <tr>\n",
       "      <th>4</th>\n",
       "      <td>20060208X00181</td>\n",
       "      <td>ROBINSON</td>\n",
       "      <td>R44</td>\n",
       "      <td>SEA06LA052</td>\n",
       "      <td>2006</td>\n",
       "      <td>02/06/06 00:00:00</td>\n",
       "      <td>HELENA</td>\n",
       "      <td>MT</td>\n",
       "      <td>USA</td>\n",
       "      <td>1</td>\n",
       "      <td>ROBINSON</td>\n",
       "      <td>R44</td>\n",
       "      <td>ROBINSON R44</td>\n",
       "    </tr>\n",
       "    <tr>\n",
       "      <th>...</th>\n",
       "      <td>...</td>\n",
       "      <td>...</td>\n",
       "      <td>...</td>\n",
       "      <td>...</td>\n",
       "      <td>...</td>\n",
       "      <td>...</td>\n",
       "      <td>...</td>\n",
       "      <td>...</td>\n",
       "      <td>...</td>\n",
       "      <td>...</td>\n",
       "      <td>...</td>\n",
       "      <td>...</td>\n",
       "      <td>...</td>\n",
       "    </tr>\n",
       "    <tr>\n",
       "      <th>158</th>\n",
       "      <td>20160711X32921</td>\n",
       "      <td>BELL HELICOPTER TEXTRON CANADA</td>\n",
       "      <td>407</td>\n",
       "      <td>ERA16FA248</td>\n",
       "      <td>2016</td>\n",
       "      <td>07/11/16 00:00:00</td>\n",
       "      <td>HICKORY</td>\n",
       "      <td>KY</td>\n",
       "      <td>USA</td>\n",
       "      <td>1</td>\n",
       "      <td>BELL</td>\n",
       "      <td>407</td>\n",
       "      <td>BELL 407</td>\n",
       "    </tr>\n",
       "    <tr>\n",
       "      <th>159</th>\n",
       "      <td>20160804X45514</td>\n",
       "      <td>SCHWEIZER</td>\n",
       "      <td>269C 1</td>\n",
       "      <td>CEN16FA304</td>\n",
       "      <td>2016</td>\n",
       "      <td>08/03/16 00:00:00</td>\n",
       "      <td>JEANERETTE</td>\n",
       "      <td>LA</td>\n",
       "      <td>USA</td>\n",
       "      <td>1</td>\n",
       "      <td>SCHWEIZER</td>\n",
       "      <td>269</td>\n",
       "      <td>SCHWEIZER 269</td>\n",
       "    </tr>\n",
       "    <tr>\n",
       "      <th>160</th>\n",
       "      <td>20160404X74644</td>\n",
       "      <td>BELL</td>\n",
       "      <td>206</td>\n",
       "      <td>ERA16FA144</td>\n",
       "      <td>2016</td>\n",
       "      <td>04/04/16 00:00:00</td>\n",
       "      <td>PIGEON FORGE</td>\n",
       "      <td>TN</td>\n",
       "      <td>USA</td>\n",
       "      <td>5</td>\n",
       "      <td>BELL</td>\n",
       "      <td>206</td>\n",
       "      <td>BELL 206</td>\n",
       "    </tr>\n",
       "    <tr>\n",
       "      <th>161</th>\n",
       "      <td>20160507X31120</td>\n",
       "      <td>AIRBUS</td>\n",
       "      <td>AS350</td>\n",
       "      <td>ANC16FA023</td>\n",
       "      <td>2016</td>\n",
       "      <td>05/06/16 00:00:00</td>\n",
       "      <td>SKAGWAY</td>\n",
       "      <td>AK</td>\n",
       "      <td>USA</td>\n",
       "      <td>1</td>\n",
       "      <td>AIRBUS</td>\n",
       "      <td>350</td>\n",
       "      <td>AIRBUS 350</td>\n",
       "    </tr>\n",
       "    <tr>\n",
       "      <th>162</th>\n",
       "      <td>20160612X85856</td>\n",
       "      <td>ROBINSON HELICOPTER COMPANY</td>\n",
       "      <td>R44 II</td>\n",
       "      <td>CEN16FA215</td>\n",
       "      <td>2016</td>\n",
       "      <td>06/12/16 00:00:00</td>\n",
       "      <td>JONESBORO</td>\n",
       "      <td>AR</td>\n",
       "      <td>USA</td>\n",
       "      <td>1</td>\n",
       "      <td>ROBINSON</td>\n",
       "      <td>R44</td>\n",
       "      <td>ROBINSON R44</td>\n",
       "    </tr>\n",
       "  </tbody>\n",
       "</table>\n",
       "<p>163 rows × 13 columns</p>\n",
       "</div>"
      ],
      "text/plain": [
       "           event_id                       ntsb_make ntsb_model ntsb_number   \n",
       "0    20061222X01838                            BELL        407  NYC07FA048  \\\n",
       "1    20060817X01187                        ROBINSON   R22 BETA  LAX06LA257   \n",
       "2    20060111X00044                        ROBINSON        R44  MIA06FA039   \n",
       "3    20060419X00461                        ROBINSON     R44 II  DFW06FA102   \n",
       "4    20060208X00181                        ROBINSON        R44  SEA06LA052   \n",
       "..              ...                             ...        ...         ...   \n",
       "158  20160711X32921  BELL HELICOPTER TEXTRON CANADA        407  ERA16FA248   \n",
       "159  20160804X45514                       SCHWEIZER     269C 1  CEN16FA304   \n",
       "160  20160404X74644                            BELL        206  ERA16FA144   \n",
       "161  20160507X31120                          AIRBUS      AS350  ANC16FA023   \n",
       "162  20160612X85856     ROBINSON HELICOPTER COMPANY     R44 II  CEN16FA215   \n",
       "\n",
       "     year               date            city state country  total_fatalities   \n",
       "0    2006  12/14/06 00:00:00        DAGSBORO    DE     USA                 2  \\\n",
       "1    2006  08/10/06 00:00:00          TUCSON    AZ     USA                 1   \n",
       "2    2006  01/01/06 00:00:00     GRAND RIDGE    FL     USA                 3   \n",
       "3    2006  04/13/06 00:00:00  FREDERICKSBURG    TX     USA                 2   \n",
       "4    2006  02/06/06 00:00:00          HELENA    MT     USA                 1   \n",
       "..    ...                ...             ...   ...     ...               ...   \n",
       "158  2016  07/11/16 00:00:00         HICKORY    KY     USA                 1   \n",
       "159  2016  08/03/16 00:00:00      JEANERETTE    LA     USA                 1   \n",
       "160  2016  04/04/16 00:00:00    PIGEON FORGE    TN     USA                 5   \n",
       "161  2016  05/06/16 00:00:00         SKAGWAY    AK     USA                 1   \n",
       "162  2016  06/12/16 00:00:00       JONESBORO    AR     USA                 1   \n",
       "\n",
       "    latimes_make latimes_model latimes_make_and_model  \n",
       "0           BELL           407               BELL 407  \n",
       "1       ROBINSON           R22           ROBINSON R22  \n",
       "2       ROBINSON           R44           ROBINSON R44  \n",
       "3       ROBINSON           R44           ROBINSON R44  \n",
       "4       ROBINSON           R44           ROBINSON R44  \n",
       "..           ...           ...                    ...  \n",
       "158         BELL           407               BELL 407  \n",
       "159    SCHWEIZER           269          SCHWEIZER 269  \n",
       "160         BELL           206               BELL 206  \n",
       "161       AIRBUS           350             AIRBUS 350  \n",
       "162     ROBINSON           R44           ROBINSON R44  \n",
       "\n",
       "[163 rows x 13 columns]"
      ]
     },
     "execution_count": 21,
     "metadata": {},
     "output_type": "execute_result"
    }
   ],
   "source": [
    "accident_list"
   ]
  },
  {
   "cell_type": "code",
   "execution_count": 23,
   "id": "515edf6e-53f6-4a42-aae5-15fc8fbc8a6f",
   "metadata": {
    "tags": []
   },
   "outputs": [
    {
     "data": {
      "text/html": [
       "<div>\n",
       "<style scoped>\n",
       "    .dataframe tbody tr th:only-of-type {\n",
       "        vertical-align: middle;\n",
       "    }\n",
       "\n",
       "    .dataframe tbody tr th {\n",
       "        vertical-align: top;\n",
       "    }\n",
       "\n",
       "    .dataframe thead th {\n",
       "        text-align: right;\n",
       "    }\n",
       "</style>\n",
       "<table border=\"1\" class=\"dataframe\">\n",
       "  <thead>\n",
       "    <tr style=\"text-align: right;\">\n",
       "      <th></th>\n",
       "      <th>event_id</th>\n",
       "      <th>ntsb_make</th>\n",
       "      <th>ntsb_model</th>\n",
       "      <th>ntsb_number</th>\n",
       "      <th>year</th>\n",
       "      <th>date</th>\n",
       "      <th>city</th>\n",
       "      <th>state</th>\n",
       "      <th>country</th>\n",
       "      <th>total_fatalities</th>\n",
       "      <th>latimes_make</th>\n",
       "      <th>latimes_model</th>\n",
       "      <th>latimes_make_and_model</th>\n",
       "    </tr>\n",
       "  </thead>\n",
       "  <tbody>\n",
       "    <tr>\n",
       "      <th>0</th>\n",
       "      <td>20061222X01838</td>\n",
       "      <td>BELL</td>\n",
       "      <td>407</td>\n",
       "      <td>NYC07FA048</td>\n",
       "      <td>2006</td>\n",
       "      <td>12/14/06 00:00:00</td>\n",
       "      <td>DAGSBORO</td>\n",
       "      <td>DE</td>\n",
       "      <td>USA</td>\n",
       "      <td>2</td>\n",
       "      <td>BELL</td>\n",
       "      <td>407</td>\n",
       "      <td>BELL 407</td>\n",
       "    </tr>\n",
       "    <tr>\n",
       "      <th>1</th>\n",
       "      <td>20060817X01187</td>\n",
       "      <td>ROBINSON</td>\n",
       "      <td>R22 BETA</td>\n",
       "      <td>LAX06LA257</td>\n",
       "      <td>2006</td>\n",
       "      <td>08/10/06 00:00:00</td>\n",
       "      <td>TUCSON</td>\n",
       "      <td>AZ</td>\n",
       "      <td>USA</td>\n",
       "      <td>1</td>\n",
       "      <td>ROBINSON</td>\n",
       "      <td>R22</td>\n",
       "      <td>ROBINSON R22</td>\n",
       "    </tr>\n",
       "    <tr>\n",
       "      <th>2</th>\n",
       "      <td>20060111X00044</td>\n",
       "      <td>ROBINSON</td>\n",
       "      <td>R44</td>\n",
       "      <td>MIA06FA039</td>\n",
       "      <td>2006</td>\n",
       "      <td>01/01/06 00:00:00</td>\n",
       "      <td>GRAND RIDGE</td>\n",
       "      <td>FL</td>\n",
       "      <td>USA</td>\n",
       "      <td>3</td>\n",
       "      <td>ROBINSON</td>\n",
       "      <td>R44</td>\n",
       "      <td>ROBINSON R44</td>\n",
       "    </tr>\n",
       "    <tr>\n",
       "      <th>3</th>\n",
       "      <td>20060419X00461</td>\n",
       "      <td>ROBINSON</td>\n",
       "      <td>R44 II</td>\n",
       "      <td>DFW06FA102</td>\n",
       "      <td>2006</td>\n",
       "      <td>04/13/06 00:00:00</td>\n",
       "      <td>FREDERICKSBURG</td>\n",
       "      <td>TX</td>\n",
       "      <td>USA</td>\n",
       "      <td>2</td>\n",
       "      <td>ROBINSON</td>\n",
       "      <td>R44</td>\n",
       "      <td>ROBINSON R44</td>\n",
       "    </tr>\n",
       "    <tr>\n",
       "      <th>4</th>\n",
       "      <td>20060208X00181</td>\n",
       "      <td>ROBINSON</td>\n",
       "      <td>R44</td>\n",
       "      <td>SEA06LA052</td>\n",
       "      <td>2006</td>\n",
       "      <td>02/06/06 00:00:00</td>\n",
       "      <td>HELENA</td>\n",
       "      <td>MT</td>\n",
       "      <td>USA</td>\n",
       "      <td>1</td>\n",
       "      <td>ROBINSON</td>\n",
       "      <td>R44</td>\n",
       "      <td>ROBINSON R44</td>\n",
       "    </tr>\n",
       "    <tr>\n",
       "      <th>5</th>\n",
       "      <td>20060228X00255</td>\n",
       "      <td>ROBINSON</td>\n",
       "      <td>R22</td>\n",
       "      <td>ANC06FA020</td>\n",
       "      <td>2006</td>\n",
       "      <td>02/22/06 00:00:00</td>\n",
       "      <td>SCOTTSDALE</td>\n",
       "      <td>AZ</td>\n",
       "      <td>USA</td>\n",
       "      <td>2</td>\n",
       "      <td>ROBINSON</td>\n",
       "      <td>R22</td>\n",
       "      <td>ROBINSON R22</td>\n",
       "    </tr>\n",
       "    <tr>\n",
       "      <th>6</th>\n",
       "      <td>20060824X01237</td>\n",
       "      <td>EUROCOPTER</td>\n",
       "      <td>AS-350-B3</td>\n",
       "      <td>SEA06GA158</td>\n",
       "      <td>2006</td>\n",
       "      <td>08/13/06 00:00:00</td>\n",
       "      <td>YELLOW PINE</td>\n",
       "      <td>ID</td>\n",
       "      <td>USA</td>\n",
       "      <td>4</td>\n",
       "      <td>AIRBUS</td>\n",
       "      <td>350</td>\n",
       "      <td>AIRBUS 350</td>\n",
       "    </tr>\n",
       "    <tr>\n",
       "      <th>7</th>\n",
       "      <td>20060916X01352</td>\n",
       "      <td>HUGHES</td>\n",
       "      <td>369D</td>\n",
       "      <td>LAX06LA288</td>\n",
       "      <td>2006</td>\n",
       "      <td>09/06/06 00:00:00</td>\n",
       "      <td>SOMIS</td>\n",
       "      <td>CA</td>\n",
       "      <td>USA</td>\n",
       "      <td>2</td>\n",
       "      <td>HUGHES</td>\n",
       "      <td>369</td>\n",
       "      <td>HUGHES 369</td>\n",
       "    </tr>\n",
       "    <tr>\n",
       "      <th>8</th>\n",
       "      <td>20061122X01705</td>\n",
       "      <td>HUGHES</td>\n",
       "      <td>369E</td>\n",
       "      <td>SEA07LA021</td>\n",
       "      <td>2006</td>\n",
       "      <td>11/21/06 00:00:00</td>\n",
       "      <td>JENSEN</td>\n",
       "      <td>UT</td>\n",
       "      <td>USA</td>\n",
       "      <td>1</td>\n",
       "      <td>HUGHES</td>\n",
       "      <td>369</td>\n",
       "      <td>HUGHES 369</td>\n",
       "    </tr>\n",
       "    <tr>\n",
       "      <th>9</th>\n",
       "      <td>20060306X00268</td>\n",
       "      <td>SCHWEIZER</td>\n",
       "      <td>269C-1</td>\n",
       "      <td>LAX06LA123</td>\n",
       "      <td>2006</td>\n",
       "      <td>02/25/06 00:00:00</td>\n",
       "      <td>VALENCIA</td>\n",
       "      <td>CA</td>\n",
       "      <td>USA</td>\n",
       "      <td>1</td>\n",
       "      <td>SCHWEIZER</td>\n",
       "      <td>269</td>\n",
       "      <td>SCHWEIZER 269</td>\n",
       "    </tr>\n",
       "  </tbody>\n",
       "</table>\n",
       "</div>"
      ],
      "text/plain": [
       "         event_id   ntsb_make ntsb_model ntsb_number  year               date   \n",
       "0  20061222X01838        BELL        407  NYC07FA048  2006  12/14/06 00:00:00  \\\n",
       "1  20060817X01187    ROBINSON   R22 BETA  LAX06LA257  2006  08/10/06 00:00:00   \n",
       "2  20060111X00044    ROBINSON        R44  MIA06FA039  2006  01/01/06 00:00:00   \n",
       "3  20060419X00461    ROBINSON     R44 II  DFW06FA102  2006  04/13/06 00:00:00   \n",
       "4  20060208X00181    ROBINSON        R44  SEA06LA052  2006  02/06/06 00:00:00   \n",
       "5  20060228X00255    ROBINSON        R22  ANC06FA020  2006  02/22/06 00:00:00   \n",
       "6  20060824X01237  EUROCOPTER  AS-350-B3  SEA06GA158  2006  08/13/06 00:00:00   \n",
       "7  20060916X01352      HUGHES       369D  LAX06LA288  2006  09/06/06 00:00:00   \n",
       "8  20061122X01705      HUGHES       369E  SEA07LA021  2006  11/21/06 00:00:00   \n",
       "9  20060306X00268   SCHWEIZER     269C-1  LAX06LA123  2006  02/25/06 00:00:00   \n",
       "\n",
       "             city state country  total_fatalities latimes_make latimes_model   \n",
       "0        DAGSBORO    DE     USA                 2         BELL           407  \\\n",
       "1          TUCSON    AZ     USA                 1     ROBINSON           R22   \n",
       "2     GRAND RIDGE    FL     USA                 3     ROBINSON           R44   \n",
       "3  FREDERICKSBURG    TX     USA                 2     ROBINSON           R44   \n",
       "4          HELENA    MT     USA                 1     ROBINSON           R44   \n",
       "5      SCOTTSDALE    AZ     USA                 2     ROBINSON           R22   \n",
       "6     YELLOW PINE    ID     USA                 4       AIRBUS           350   \n",
       "7           SOMIS    CA     USA                 2       HUGHES           369   \n",
       "8          JENSEN    UT     USA                 1       HUGHES           369   \n",
       "9        VALENCIA    CA     USA                 1    SCHWEIZER           269   \n",
       "\n",
       "  latimes_make_and_model  \n",
       "0               BELL 407  \n",
       "1           ROBINSON R22  \n",
       "2           ROBINSON R44  \n",
       "3           ROBINSON R44  \n",
       "4           ROBINSON R44  \n",
       "5           ROBINSON R22  \n",
       "6             AIRBUS 350  \n",
       "7             HUGHES 369  \n",
       "8             HUGHES 369  \n",
       "9          SCHWEIZER 269  "
      ]
     },
     "execution_count": 23,
     "metadata": {},
     "output_type": "execute_result"
    }
   ],
   "source": [
    "accident_list.head(10)"
   ]
  },
  {
   "cell_type": "code",
   "execution_count": 24,
   "id": "d9fac7c3-18bb-466e-97cc-a612d780441a",
   "metadata": {
    "tags": []
   },
   "outputs": [
    {
     "name": "stdout",
     "output_type": "stream",
     "text": [
      "<class 'pandas.core.frame.DataFrame'>\n",
      "RangeIndex: 163 entries, 0 to 162\n",
      "Data columns (total 13 columns):\n",
      " #   Column                  Non-Null Count  Dtype \n",
      "---  ------                  --------------  ----- \n",
      " 0   event_id                163 non-null    object\n",
      " 1   ntsb_make               163 non-null    object\n",
      " 2   ntsb_model              163 non-null    object\n",
      " 3   ntsb_number             163 non-null    object\n",
      " 4   year                    163 non-null    int64 \n",
      " 5   date                    163 non-null    object\n",
      " 6   city                    163 non-null    object\n",
      " 7   state                   162 non-null    object\n",
      " 8   country                 163 non-null    object\n",
      " 9   total_fatalities        163 non-null    int64 \n",
      " 10  latimes_make            163 non-null    object\n",
      " 11  latimes_model           163 non-null    object\n",
      " 12  latimes_make_and_model  163 non-null    object\n",
      "dtypes: int64(2), object(11)\n",
      "memory usage: 16.7+ KB\n"
     ]
    }
   ],
   "source": [
    "accident_list.info()"
   ]
  },
  {
   "cell_type": "code",
   "execution_count": 25,
   "id": "09904972-72be-4209-bdc0-4eb0251b694b",
   "metadata": {
    "tags": []
   },
   "outputs": [
    {
     "data": {
      "text/plain": [
       "0           BELL 407\n",
       "1       ROBINSON R22\n",
       "2       ROBINSON R44\n",
       "3       ROBINSON R44\n",
       "4       ROBINSON R44\n",
       "           ...      \n",
       "158         BELL 407\n",
       "159    SCHWEIZER 269\n",
       "160         BELL 206\n",
       "161       AIRBUS 350\n",
       "162     ROBINSON R44\n",
       "Name: latimes_make_and_model, Length: 163, dtype: object"
      ]
     },
     "execution_count": 25,
     "metadata": {},
     "output_type": "execute_result"
    }
   ],
   "source": [
    "accident_list['latimes_make_and_model']"
   ]
  },
  {
   "cell_type": "code",
   "execution_count": 26,
   "id": "35ee44bb-5fc5-4e79-a6f4-0a6f5346189e",
   "metadata": {
    "tags": []
   },
   "outputs": [
    {
     "data": {
      "text/plain": [
       "latimes_make_and_model\n",
       "ROBINSON R44             38\n",
       "BELL 206                 30\n",
       "AIRBUS 350               29\n",
       "ROBINSON R22             20\n",
       "BELL 407                 13\n",
       "HUGHES 369               13\n",
       "MCDONNELL DOUGLAS 369     6\n",
       "SCHWEIZER 269             5\n",
       "AIRBUS 135                4\n",
       "SIKORSKY 76               2\n",
       "AGUSTA 109                2\n",
       "AIRBUS 130                1\n",
       "Name: count, dtype: int64"
      ]
     },
     "execution_count": 26,
     "metadata": {},
     "output_type": "execute_result"
    }
   ],
   "source": [
    "accident_list['latimes_make_and_model'].value_counts()"
   ]
  },
  {
   "cell_type": "code",
   "execution_count": 31,
   "id": "706ba541-0b76-4d8d-b310-a84cb4898005",
   "metadata": {
    "tags": []
   },
   "outputs": [],
   "source": [
    "accident_df = accident_list['latimes_make_and_model'].value_counts().reset_index()"
   ]
  },
  {
   "cell_type": "code",
   "execution_count": 32,
   "id": "124392cd-b557-45b7-a7f4-786515bdde84",
   "metadata": {
    "tags": []
   },
   "outputs": [
    {
     "data": {
      "text/plain": [
       "163"
      ]
     },
     "execution_count": 32,
     "metadata": {},
     "output_type": "execute_result"
    }
   ],
   "source": [
    "accident_df['count'].sum()"
   ]
  },
  {
   "cell_type": "code",
   "execution_count": 34,
   "id": "34236900-5e89-4917-880f-612d3a5848b3",
   "metadata": {
    "tags": []
   },
   "outputs": [
    {
     "data": {
      "text/plain": [
       "ntsb_make\n",
       "BELL                              37\n",
       "ROBINSON                          25\n",
       "EUROCOPTER                        18\n",
       "ROBINSON HELICOPTER               18\n",
       "ROBINSON HELICOPTER COMPANY       15\n",
       "HUGHES                            13\n",
       "SCHWEIZER                          5\n",
       "AEROSPATIALE                       5\n",
       "BELL HELICOPTER TEXTRON            4\n",
       "AIRBUS HELICOPTERS                 2\n",
       "MCDONNELL DOUGLAS HELICOPTER       2\n",
       "AGUSTA SPA                         2\n",
       "SIKORSKY                           2\n",
       "MCDONNELL DOUGLAS HELI CO          2\n",
       "EUROCOPTER DEUTSCHLAND GMBH        2\n",
       "EUROCOPTER FRANCE                  2\n",
       "AMERICAN EUROCOPTER LLC            1\n",
       "MD HELICOPTERS INC                 1\n",
       "BELL HELICOPTER                    1\n",
       "MCDONNELL DOUGLAS                  1\n",
       "AMERICAN EUROCOPTER CORP           1\n",
       "AIRBUS HELICOPTERS INC             1\n",
       "AIRBUS HELICOPTERS (EUROCOPTE      1\n",
       "BELL HELICOPTER TEXTRON CANADA     1\n",
       "AIRBUS                             1\n",
       "Name: count, dtype: int64"
      ]
     },
     "execution_count": 34,
     "metadata": {},
     "output_type": "execute_result"
    }
   ],
   "source": [
    "accident_list['ntsb_make'].value_counts()"
   ]
  },
  {
   "cell_type": "code",
   "execution_count": 35,
   "id": "def77db6-7390-4e9b-96b9-dbddaac6a49a",
   "metadata": {
    "tags": []
   },
   "outputs": [
    {
     "data": {
      "text/plain": [
       "year\n",
       "2008    22\n",
       "2006    20\n",
       "2010    18\n",
       "2013    18\n",
       "2014    17\n",
       "2007    16\n",
       "2012    16\n",
       "2009    15\n",
       "2015    11\n",
       "2016    10\n",
       "Name: count, dtype: int64"
      ]
     },
     "execution_count": 35,
     "metadata": {},
     "output_type": "execute_result"
    }
   ],
   "source": [
    "accident_list['year'].value_counts()"
   ]
  },
  {
   "cell_type": "code",
   "execution_count": 36,
   "id": "38dde64c-002a-4395-aa87-ae756e318f04",
   "metadata": {
    "tags": []
   },
   "outputs": [
    {
     "data": {
      "text/plain": [
       "state\n",
       "CA    16\n",
       "TX    15\n",
       "AZ    14\n",
       "FL     9\n",
       "WA     8\n",
       "LA     8\n",
       "TN     6\n",
       "AK     6\n",
       "AL     5\n",
       "UT     5\n",
       "OK     5\n",
       "MT     4\n",
       "HI     4\n",
       "MO     4\n",
       "OR     4\n",
       "GM     3\n",
       "WI     3\n",
       "KY     3\n",
       "PA     3\n",
       "NM     3\n",
       "CO     3\n",
       "IA     3\n",
       "IN     2\n",
       "NV     2\n",
       "NC     2\n",
       "MD     2\n",
       "AR     2\n",
       "VA     2\n",
       "MS     2\n",
       "NY     2\n",
       "MA     1\n",
       "WV     1\n",
       "WY     1\n",
       "DE     1\n",
       "GA     1\n",
       "KS     1\n",
       "NJ     1\n",
       "SC     1\n",
       "MI     1\n",
       "DC     1\n",
       "ID     1\n",
       "PR     1\n",
       "Name: count, dtype: int64"
      ]
     },
     "execution_count": 36,
     "metadata": {},
     "output_type": "execute_result"
    }
   ],
   "source": [
    "accident_list['state'].value_counts()"
   ]
  },
  {
   "cell_type": "code",
   "execution_count": 37,
   "id": "e4d6238c-aecc-4433-992e-5d26ed1ec838",
   "metadata": {
    "tags": []
   },
   "outputs": [],
   "source": [
    "my_state = \"IA\""
   ]
  },
  {
   "cell_type": "code",
   "execution_count": 38,
   "id": "31619100-452b-4f75-9789-2c75ba428c50",
   "metadata": {
    "tags": []
   },
   "outputs": [
    {
     "data": {
      "text/html": [
       "<div>\n",
       "<style scoped>\n",
       "    .dataframe tbody tr th:only-of-type {\n",
       "        vertical-align: middle;\n",
       "    }\n",
       "\n",
       "    .dataframe tbody tr th {\n",
       "        vertical-align: top;\n",
       "    }\n",
       "\n",
       "    .dataframe thead th {\n",
       "        text-align: right;\n",
       "    }\n",
       "</style>\n",
       "<table border=\"1\" class=\"dataframe\">\n",
       "  <thead>\n",
       "    <tr style=\"text-align: right;\">\n",
       "      <th></th>\n",
       "      <th>event_id</th>\n",
       "      <th>ntsb_make</th>\n",
       "      <th>ntsb_model</th>\n",
       "      <th>ntsb_number</th>\n",
       "      <th>year</th>\n",
       "      <th>date</th>\n",
       "      <th>city</th>\n",
       "      <th>state</th>\n",
       "      <th>country</th>\n",
       "      <th>total_fatalities</th>\n",
       "      <th>latimes_make</th>\n",
       "      <th>latimes_model</th>\n",
       "      <th>latimes_make_and_model</th>\n",
       "    </tr>\n",
       "  </thead>\n",
       "  <tbody>\n",
       "    <tr>\n",
       "      <th>12</th>\n",
       "      <td>20060705X00868</td>\n",
       "      <td>BELL</td>\n",
       "      <td>206B</td>\n",
       "      <td>CHI06FA173</td>\n",
       "      <td>2006</td>\n",
       "      <td>06/30/06 00:00:00</td>\n",
       "      <td>WALFORD</td>\n",
       "      <td>IA</td>\n",
       "      <td>USA</td>\n",
       "      <td>1</td>\n",
       "      <td>BELL</td>\n",
       "      <td>206</td>\n",
       "      <td>BELL 206</td>\n",
       "    </tr>\n",
       "    <tr>\n",
       "      <th>118</th>\n",
       "      <td>20130102X35708</td>\n",
       "      <td>BELL HELICOPTER</td>\n",
       "      <td>407</td>\n",
       "      <td>CEN13FA122</td>\n",
       "      <td>2013</td>\n",
       "      <td>01/02/13 00:00:00</td>\n",
       "      <td>CLEAR LAKE</td>\n",
       "      <td>IA</td>\n",
       "      <td>USA</td>\n",
       "      <td>3</td>\n",
       "      <td>BELL</td>\n",
       "      <td>407</td>\n",
       "      <td>BELL 407</td>\n",
       "    </tr>\n",
       "    <tr>\n",
       "      <th>140</th>\n",
       "      <td>20140908X10448</td>\n",
       "      <td>ROBINSON HELICOPTER COMPANY</td>\n",
       "      <td>R44 II</td>\n",
       "      <td>CEN14LA487</td>\n",
       "      <td>2014</td>\n",
       "      <td>09/06/14 00:00:00</td>\n",
       "      <td>MACEDONIA</td>\n",
       "      <td>IA</td>\n",
       "      <td>USA</td>\n",
       "      <td>1</td>\n",
       "      <td>ROBINSON</td>\n",
       "      <td>R44</td>\n",
       "      <td>ROBINSON R44</td>\n",
       "    </tr>\n",
       "  </tbody>\n",
       "</table>\n",
       "</div>"
      ],
      "text/plain": [
       "           event_id                    ntsb_make ntsb_model ntsb_number  year   \n",
       "12   20060705X00868                         BELL       206B  CHI06FA173  2006  \\\n",
       "118  20130102X35708              BELL HELICOPTER        407  CEN13FA122  2013   \n",
       "140  20140908X10448  ROBINSON HELICOPTER COMPANY     R44 II  CEN14LA487  2014   \n",
       "\n",
       "                  date        city state country  total_fatalities   \n",
       "12   06/30/06 00:00:00     WALFORD    IA     USA                 1  \\\n",
       "118  01/02/13 00:00:00  CLEAR LAKE    IA     USA                 3   \n",
       "140  09/06/14 00:00:00   MACEDONIA    IA     USA                 1   \n",
       "\n",
       "    latimes_make latimes_model latimes_make_and_model  \n",
       "12          BELL           206               BELL 206  \n",
       "118         BELL           407               BELL 407  \n",
       "140     ROBINSON           R44           ROBINSON R44  "
      ]
     },
     "execution_count": 38,
     "metadata": {},
     "output_type": "execute_result"
    }
   ],
   "source": [
    "accident_list[accident_list['state'] == my_state]"
   ]
  },
  {
   "cell_type": "code",
   "execution_count": 39,
   "id": "1edeac1e-9bdd-4b4e-859f-633c55f410a1",
   "metadata": {
    "tags": []
   },
   "outputs": [],
   "source": [
    "my_accidents = accident_list[accident_list['state'] == my_state]"
   ]
  },
  {
   "cell_type": "code",
   "execution_count": 41,
   "id": "ec279a94-aa7e-48b3-b91e-b68a7eddc934",
   "metadata": {
    "tags": []
   },
   "outputs": [
    {
     "name": "stdout",
     "output_type": "stream",
     "text": [
      "<class 'pandas.core.frame.DataFrame'>\n",
      "Index: 3 entries, 12 to 140\n",
      "Data columns (total 13 columns):\n",
      " #   Column                  Non-Null Count  Dtype \n",
      "---  ------                  --------------  ----- \n",
      " 0   event_id                3 non-null      object\n",
      " 1   ntsb_make               3 non-null      object\n",
      " 2   ntsb_model              3 non-null      object\n",
      " 3   ntsb_number             3 non-null      object\n",
      " 4   year                    3 non-null      int64 \n",
      " 5   date                    3 non-null      object\n",
      " 6   city                    3 non-null      object\n",
      " 7   state                   3 non-null      object\n",
      " 8   country                 3 non-null      object\n",
      " 9   total_fatalities        3 non-null      int64 \n",
      " 10  latimes_make            3 non-null      object\n",
      " 11  latimes_model           3 non-null      object\n",
      " 12  latimes_make_and_model  3 non-null      object\n",
      "dtypes: int64(2), object(11)\n",
      "memory usage: 336.0+ bytes\n"
     ]
    }
   ],
   "source": [
    "my_accidents.info()"
   ]
  },
  {
   "cell_type": "code",
   "execution_count": 42,
   "id": "2855de6f-e717-47b7-9907-d4e3ef8aa7ce",
   "metadata": {
    "tags": []
   },
   "outputs": [
    {
     "data": {
      "text/html": [
       "<div>\n",
       "<style scoped>\n",
       "    .dataframe tbody tr th:only-of-type {\n",
       "        vertical-align: middle;\n",
       "    }\n",
       "\n",
       "    .dataframe tbody tr th {\n",
       "        vertical-align: top;\n",
       "    }\n",
       "\n",
       "    .dataframe thead th {\n",
       "        text-align: right;\n",
       "    }\n",
       "</style>\n",
       "<table border=\"1\" class=\"dataframe\">\n",
       "  <thead>\n",
       "    <tr style=\"text-align: right;\">\n",
       "      <th></th>\n",
       "      <th>event_id</th>\n",
       "      <th>ntsb_make</th>\n",
       "      <th>ntsb_model</th>\n",
       "      <th>ntsb_number</th>\n",
       "      <th>year</th>\n",
       "      <th>date</th>\n",
       "      <th>city</th>\n",
       "      <th>state</th>\n",
       "      <th>country</th>\n",
       "      <th>total_fatalities</th>\n",
       "      <th>latimes_make</th>\n",
       "      <th>latimes_model</th>\n",
       "      <th>latimes_make_and_model</th>\n",
       "    </tr>\n",
       "  </thead>\n",
       "  <tbody>\n",
       "    <tr>\n",
       "      <th>11</th>\n",
       "      <td>20060419X00457</td>\n",
       "      <td>ROBINSON</td>\n",
       "      <td>R22 BETA</td>\n",
       "      <td>CHI06FA109</td>\n",
       "      <td>2006</td>\n",
       "      <td>04/13/06 00:00:00</td>\n",
       "      <td>CHELSEA</td>\n",
       "      <td>MI</td>\n",
       "      <td>USA</td>\n",
       "      <td>2</td>\n",
       "      <td>ROBINSON</td>\n",
       "      <td>R22</td>\n",
       "      <td>ROBINSON R22</td>\n",
       "    </tr>\n",
       "  </tbody>\n",
       "</table>\n",
       "</div>"
      ],
      "text/plain": [
       "          event_id ntsb_make ntsb_model ntsb_number  year               date   \n",
       "11  20060419X00457  ROBINSON   R22 BETA  CHI06FA109  2006  04/13/06 00:00:00  \\\n",
       "\n",
       "       city state country  total_fatalities latimes_make latimes_model   \n",
       "11  CHELSEA    MI     USA                 2     ROBINSON           R22  \\\n",
       "\n",
       "   latimes_make_and_model  \n",
       "11           ROBINSON R22  "
      ]
     },
     "execution_count": 42,
     "metadata": {},
     "output_type": "execute_result"
    }
   ],
   "source": [
    "accident_list[accident_list['state'] == 'MI']"
   ]
  },
  {
   "cell_type": "code",
   "execution_count": 44,
   "id": "d57cc51d-d214-4733-9f05-022395105e8e",
   "metadata": {
    "tags": []
   },
   "outputs": [],
   "source": [
    "more_than_one_fatal = accident_list[accident_list['total_fatalities'] > 1]"
   ]
  },
  {
   "cell_type": "code",
   "execution_count": 45,
   "id": "5e9ce50f-3957-413f-9dc7-4ea394ef5f29",
   "metadata": {
    "tags": []
   },
   "outputs": [
    {
     "name": "stdout",
     "output_type": "stream",
     "text": [
      "<class 'pandas.core.frame.DataFrame'>\n",
      "Index: 89 entries, 0 to 160\n",
      "Data columns (total 13 columns):\n",
      " #   Column                  Non-Null Count  Dtype \n",
      "---  ------                  --------------  ----- \n",
      " 0   event_id                89 non-null     object\n",
      " 1   ntsb_make               89 non-null     object\n",
      " 2   ntsb_model              89 non-null     object\n",
      " 3   ntsb_number             89 non-null     object\n",
      " 4   year                    89 non-null     int64 \n",
      " 5   date                    89 non-null     object\n",
      " 6   city                    89 non-null     object\n",
      " 7   state                   89 non-null     object\n",
      " 8   country                 89 non-null     object\n",
      " 9   total_fatalities        89 non-null     int64 \n",
      " 10  latimes_make            89 non-null     object\n",
      " 11  latimes_model           89 non-null     object\n",
      " 12  latimes_make_and_model  89 non-null     object\n",
      "dtypes: int64(2), object(11)\n",
      "memory usage: 9.7+ KB\n"
     ]
    }
   ],
   "source": [
    "more_than_one_fatal.info()"
   ]
  },
  {
   "cell_type": "code",
   "execution_count": 56,
   "id": "9ae882bb-b33a-4bed-9053-8e00c7b7e2fd",
   "metadata": {
    "tags": []
   },
   "outputs": [],
   "source": [
    "ca = accident_list[accident_list['state'] == 'CA']"
   ]
  },
  {
   "cell_type": "code",
   "execution_count": 57,
   "id": "fc812dc5-52f4-4065-97cb-aa5b6081a221",
   "metadata": {
    "tags": []
   },
   "outputs": [],
   "source": [
    "ca_2015 = ca[ca['year'] == 2015]"
   ]
  },
  {
   "cell_type": "code",
   "execution_count": 58,
   "id": "b809816b-1385-4e96-9108-f70709f3a0be",
   "metadata": {
    "tags": []
   },
   "outputs": [
    {
     "name": "stdout",
     "output_type": "stream",
     "text": [
      "<class 'pandas.core.frame.DataFrame'>\n",
      "Index: 2 entries, 148 to 152\n",
      "Data columns (total 13 columns):\n",
      " #   Column                  Non-Null Count  Dtype \n",
      "---  ------                  --------------  ----- \n",
      " 0   event_id                2 non-null      object\n",
      " 1   ntsb_make               2 non-null      object\n",
      " 2   ntsb_model              2 non-null      object\n",
      " 3   ntsb_number             2 non-null      object\n",
      " 4   year                    2 non-null      int64 \n",
      " 5   date                    2 non-null      object\n",
      " 6   city                    2 non-null      object\n",
      " 7   state                   2 non-null      object\n",
      " 8   country                 2 non-null      object\n",
      " 9   total_fatalities        2 non-null      int64 \n",
      " 10  latimes_make            2 non-null      object\n",
      " 11  latimes_model           2 non-null      object\n",
      " 12  latimes_make_and_model  2 non-null      object\n",
      "dtypes: int64(2), object(11)\n",
      "memory usage: 224.0+ bytes\n"
     ]
    }
   ],
   "source": [
    "ca_2015.info()"
   ]
  },
  {
   "cell_type": "code",
   "execution_count": 59,
   "id": "606a2788-b2e2-4869-bd41-fc6c25dcfb72",
   "metadata": {
    "tags": []
   },
   "outputs": [
    {
     "name": "stdout",
     "output_type": "stream",
     "text": [
      "<class 'pandas.core.frame.DataFrame'>\n",
      "Index: 16 entries, 7 to 152\n",
      "Data columns (total 13 columns):\n",
      " #   Column                  Non-Null Count  Dtype \n",
      "---  ------                  --------------  ----- \n",
      " 0   event_id                16 non-null     object\n",
      " 1   ntsb_make               16 non-null     object\n",
      " 2   ntsb_model              16 non-null     object\n",
      " 3   ntsb_number             16 non-null     object\n",
      " 4   year                    16 non-null     int64 \n",
      " 5   date                    16 non-null     object\n",
      " 6   city                    16 non-null     object\n",
      " 7   state                   16 non-null     object\n",
      " 8   country                 16 non-null     object\n",
      " 9   total_fatalities        16 non-null     int64 \n",
      " 10  latimes_make            16 non-null     object\n",
      " 11  latimes_model           16 non-null     object\n",
      " 12  latimes_make_and_model  16 non-null     object\n",
      "dtypes: int64(2), object(11)\n",
      "memory usage: 1.8+ KB\n"
     ]
    }
   ],
   "source": [
    "ca.info()"
   ]
  },
  {
   "cell_type": "code",
   "execution_count": 60,
   "id": "66509ec0-2b4f-4fb3-91d4-cbcf3d67dc7e",
   "metadata": {
    "tags": []
   },
   "outputs": [
    {
     "name": "stdout",
     "output_type": "stream",
     "text": [
      "<class 'pandas.core.frame.DataFrame'>\n",
      "RangeIndex: 163 entries, 0 to 162\n",
      "Data columns (total 13 columns):\n",
      " #   Column                  Non-Null Count  Dtype \n",
      "---  ------                  --------------  ----- \n",
      " 0   event_id                163 non-null    object\n",
      " 1   ntsb_make               163 non-null    object\n",
      " 2   ntsb_model              163 non-null    object\n",
      " 3   ntsb_number             163 non-null    object\n",
      " 4   year                    163 non-null    int64 \n",
      " 5   date                    163 non-null    object\n",
      " 6   city                    163 non-null    object\n",
      " 7   state                   162 non-null    object\n",
      " 8   country                 163 non-null    object\n",
      " 9   total_fatalities        163 non-null    int64 \n",
      " 10  latimes_make            163 non-null    object\n",
      " 11  latimes_model           163 non-null    object\n",
      " 12  latimes_make_and_model  163 non-null    object\n",
      "dtypes: int64(2), object(11)\n",
      "memory usage: 16.7+ KB\n"
     ]
    }
   ],
   "source": [
    "accident_list.info()"
   ]
  },
  {
   "cell_type": "code",
   "execution_count": 61,
   "id": "8c58cded-e27c-4a4f-ba03-45c88e3981ff",
   "metadata": {
    "tags": []
   },
   "outputs": [
    {
     "data": {
      "text/plain": [
       "0.09815950920245399"
      ]
     },
     "execution_count": 61,
     "metadata": {},
     "output_type": "execute_result"
    }
   ],
   "source": [
    "16/163"
   ]
  },
  {
   "cell_type": "code",
   "execution_count": 62,
   "id": "2870441d-2156-4226-888d-79cecf3e703b",
   "metadata": {
    "tags": []
   },
   "outputs": [
    {
     "data": {
      "text/plain": [
       "latimes_make_and_model\n",
       "AGUSTA 109                2\n",
       "AIRBUS 130                1\n",
       "AIRBUS 135                4\n",
       "AIRBUS 350               29\n",
       "BELL 206                 30\n",
       "BELL 407                 13\n",
       "HUGHES 369               13\n",
       "MCDONNELL DOUGLAS 369     6\n",
       "ROBINSON R22             20\n",
       "ROBINSON R44             38\n",
       "SCHWEIZER 269             5\n",
       "SIKORSKY 76               2\n",
       "dtype: int64"
      ]
     },
     "execution_count": 62,
     "metadata": {},
     "output_type": "execute_result"
    }
   ],
   "source": [
    "accident_list.groupby(\"latimes_make_and_model\").size()"
   ]
  },
  {
   "cell_type": "code",
   "execution_count": 64,
   "id": "d9d42d13-199d-4280-a6e2-139d4caf2fe8",
   "metadata": {
    "tags": []
   },
   "outputs": [
    {
     "data": {
      "text/html": [
       "<div>\n",
       "<style scoped>\n",
       "    .dataframe tbody tr th:only-of-type {\n",
       "        vertical-align: middle;\n",
       "    }\n",
       "\n",
       "    .dataframe tbody tr th {\n",
       "        vertical-align: top;\n",
       "    }\n",
       "\n",
       "    .dataframe thead th {\n",
       "        text-align: right;\n",
       "    }\n",
       "</style>\n",
       "<table border=\"1\" class=\"dataframe\">\n",
       "  <thead>\n",
       "    <tr style=\"text-align: right;\">\n",
       "      <th></th>\n",
       "      <th>latimes_make_and_model</th>\n",
       "      <th>total_fatalities</th>\n",
       "    </tr>\n",
       "  </thead>\n",
       "  <tbody>\n",
       "    <tr>\n",
       "      <th>0</th>\n",
       "      <td>AGUSTA 109</td>\n",
       "      <td>5</td>\n",
       "    </tr>\n",
       "    <tr>\n",
       "      <th>1</th>\n",
       "      <td>AIRBUS 130</td>\n",
       "      <td>1</td>\n",
       "    </tr>\n",
       "    <tr>\n",
       "      <th>2</th>\n",
       "      <td>AIRBUS 135</td>\n",
       "      <td>11</td>\n",
       "    </tr>\n",
       "    <tr>\n",
       "      <th>3</th>\n",
       "      <td>AIRBUS 350</td>\n",
       "      <td>81</td>\n",
       "    </tr>\n",
       "    <tr>\n",
       "      <th>4</th>\n",
       "      <td>BELL 206</td>\n",
       "      <td>61</td>\n",
       "    </tr>\n",
       "    <tr>\n",
       "      <th>5</th>\n",
       "      <td>BELL 407</td>\n",
       "      <td>35</td>\n",
       "    </tr>\n",
       "    <tr>\n",
       "      <th>6</th>\n",
       "      <td>HUGHES 369</td>\n",
       "      <td>19</td>\n",
       "    </tr>\n",
       "    <tr>\n",
       "      <th>7</th>\n",
       "      <td>MCDONNELL DOUGLAS 369</td>\n",
       "      <td>7</td>\n",
       "    </tr>\n",
       "    <tr>\n",
       "      <th>8</th>\n",
       "      <td>ROBINSON R22</td>\n",
       "      <td>27</td>\n",
       "    </tr>\n",
       "    <tr>\n",
       "      <th>9</th>\n",
       "      <td>ROBINSON R44</td>\n",
       "      <td>71</td>\n",
       "    </tr>\n",
       "    <tr>\n",
       "      <th>10</th>\n",
       "      <td>SCHWEIZER 269</td>\n",
       "      <td>7</td>\n",
       "    </tr>\n",
       "    <tr>\n",
       "      <th>11</th>\n",
       "      <td>SIKORSKY 76</td>\n",
       "      <td>11</td>\n",
       "    </tr>\n",
       "  </tbody>\n",
       "</table>\n",
       "</div>"
      ],
      "text/plain": [
       "   latimes_make_and_model  total_fatalities\n",
       "0              AGUSTA 109                 5\n",
       "1              AIRBUS 130                 1\n",
       "2              AIRBUS 135                11\n",
       "3              AIRBUS 350                81\n",
       "4                BELL 206                61\n",
       "5                BELL 407                35\n",
       "6              HUGHES 369                19\n",
       "7   MCDONNELL DOUGLAS 369                 7\n",
       "8            ROBINSON R22                27\n",
       "9            ROBINSON R44                71\n",
       "10          SCHWEIZER 269                 7\n",
       "11            SIKORSKY 76                11"
      ]
     },
     "execution_count": 64,
     "metadata": {},
     "output_type": "execute_result"
    }
   ],
   "source": [
    "accident_list.groupby(\"latimes_make_and_model\")['total_fatalities'].sum().reset_index()"
   ]
  },
  {
   "cell_type": "code",
   "execution_count": 66,
   "id": "82b72638-00b5-42e1-bc2b-b91ec2c76400",
   "metadata": {
    "tags": []
   },
   "outputs": [],
   "source": [
    "accident_counts = accident_list.groupby(\"latimes_make_and_model\").size().rename(\"accidents\").reset_index()"
   ]
  },
  {
   "cell_type": "code",
   "execution_count": 67,
   "id": "20291d77-cb79-4d96-a672-7037d4fd6733",
   "metadata": {
    "tags": []
   },
   "outputs": [],
   "source": [
    "survey = pd.read_csv(\"https://raw.githubusercontent.com/palewire/first-python-notebook/main/docs/src/_static/faa-survey.csv\")"
   ]
  },
  {
   "cell_type": "code",
   "execution_count": 68,
   "id": "827a40ba-7201-4980-9453-19e8bbf3740e",
   "metadata": {
    "tags": []
   },
   "outputs": [
    {
     "data": {
      "text/html": [
       "<div>\n",
       "<style scoped>\n",
       "    .dataframe tbody tr th:only-of-type {\n",
       "        vertical-align: middle;\n",
       "    }\n",
       "\n",
       "    .dataframe tbody tr th {\n",
       "        vertical-align: top;\n",
       "    }\n",
       "\n",
       "    .dataframe thead th {\n",
       "        text-align: right;\n",
       "    }\n",
       "</style>\n",
       "<table border=\"1\" class=\"dataframe\">\n",
       "  <thead>\n",
       "    <tr style=\"text-align: right;\">\n",
       "      <th></th>\n",
       "      <th>latimes_make_and_model</th>\n",
       "      <th>total_hours</th>\n",
       "    </tr>\n",
       "  </thead>\n",
       "  <tbody>\n",
       "    <tr>\n",
       "      <th>0</th>\n",
       "      <td>AGUSTA 109</td>\n",
       "      <td>362172</td>\n",
       "    </tr>\n",
       "    <tr>\n",
       "      <th>1</th>\n",
       "      <td>AIRBUS 130</td>\n",
       "      <td>1053786</td>\n",
       "    </tr>\n",
       "    <tr>\n",
       "      <th>2</th>\n",
       "      <td>AIRBUS 135</td>\n",
       "      <td>884596</td>\n",
       "    </tr>\n",
       "    <tr>\n",
       "      <th>3</th>\n",
       "      <td>AIRBUS 350</td>\n",
       "      <td>3883490</td>\n",
       "    </tr>\n",
       "    <tr>\n",
       "      <th>4</th>\n",
       "      <td>BELL 206</td>\n",
       "      <td>5501308</td>\n",
       "    </tr>\n",
       "  </tbody>\n",
       "</table>\n",
       "</div>"
      ],
      "text/plain": [
       "  latimes_make_and_model  total_hours\n",
       "0             AGUSTA 109       362172\n",
       "1             AIRBUS 130      1053786\n",
       "2             AIRBUS 135       884596\n",
       "3             AIRBUS 350      3883490\n",
       "4               BELL 206      5501308"
      ]
     },
     "execution_count": 68,
     "metadata": {},
     "output_type": "execute_result"
    }
   ],
   "source": [
    "survey.head()"
   ]
  },
  {
   "cell_type": "code",
   "execution_count": 69,
   "id": "cfe33148-f99c-47f7-badd-a086f5787ae4",
   "metadata": {
    "tags": []
   },
   "outputs": [],
   "source": [
    "merged_list = pd.merge(accident_counts, survey, on=\"latimes_make_and_model\")"
   ]
  },
  {
   "cell_type": "code",
   "execution_count": 70,
   "id": "b82ab0fa-73b7-4d88-8fd8-bc7a523effd6",
   "metadata": {
    "tags": []
   },
   "outputs": [
    {
     "data": {
      "text/html": [
       "<div>\n",
       "<style scoped>\n",
       "    .dataframe tbody tr th:only-of-type {\n",
       "        vertical-align: middle;\n",
       "    }\n",
       "\n",
       "    .dataframe tbody tr th {\n",
       "        vertical-align: top;\n",
       "    }\n",
       "\n",
       "    .dataframe thead th {\n",
       "        text-align: right;\n",
       "    }\n",
       "</style>\n",
       "<table border=\"1\" class=\"dataframe\">\n",
       "  <thead>\n",
       "    <tr style=\"text-align: right;\">\n",
       "      <th></th>\n",
       "      <th>latimes_make_and_model</th>\n",
       "      <th>accidents</th>\n",
       "      <th>total_hours</th>\n",
       "    </tr>\n",
       "  </thead>\n",
       "  <tbody>\n",
       "    <tr>\n",
       "      <th>0</th>\n",
       "      <td>AGUSTA 109</td>\n",
       "      <td>2</td>\n",
       "      <td>362172</td>\n",
       "    </tr>\n",
       "    <tr>\n",
       "      <th>1</th>\n",
       "      <td>AIRBUS 130</td>\n",
       "      <td>1</td>\n",
       "      <td>1053786</td>\n",
       "    </tr>\n",
       "    <tr>\n",
       "      <th>2</th>\n",
       "      <td>AIRBUS 135</td>\n",
       "      <td>4</td>\n",
       "      <td>884596</td>\n",
       "    </tr>\n",
       "    <tr>\n",
       "      <th>3</th>\n",
       "      <td>AIRBUS 350</td>\n",
       "      <td>29</td>\n",
       "      <td>3883490</td>\n",
       "    </tr>\n",
       "    <tr>\n",
       "      <th>4</th>\n",
       "      <td>BELL 206</td>\n",
       "      <td>30</td>\n",
       "      <td>5501308</td>\n",
       "    </tr>\n",
       "  </tbody>\n",
       "</table>\n",
       "</div>"
      ],
      "text/plain": [
       "  latimes_make_and_model  accidents  total_hours\n",
       "0             AGUSTA 109          2       362172\n",
       "1             AIRBUS 130          1      1053786\n",
       "2             AIRBUS 135          4       884596\n",
       "3             AIRBUS 350         29      3883490\n",
       "4               BELL 206         30      5501308"
      ]
     },
     "execution_count": 70,
     "metadata": {},
     "output_type": "execute_result"
    }
   ],
   "source": [
    "merged_list.head()"
   ]
  },
  {
   "cell_type": "code",
   "execution_count": 71,
   "id": "4af6893e-b26e-42d1-a513-62b715ee46da",
   "metadata": {
    "tags": []
   },
   "outputs": [
    {
     "name": "stdout",
     "output_type": "stream",
     "text": [
      "<class 'pandas.core.frame.DataFrame'>\n",
      "RangeIndex: 12 entries, 0 to 11\n",
      "Data columns (total 3 columns):\n",
      " #   Column                  Non-Null Count  Dtype \n",
      "---  ------                  --------------  ----- \n",
      " 0   latimes_make_and_model  12 non-null     object\n",
      " 1   accidents               12 non-null     int64 \n",
      " 2   total_hours             12 non-null     int64 \n",
      "dtypes: int64(2), object(1)\n",
      "memory usage: 416.0+ bytes\n"
     ]
    }
   ],
   "source": [
    "merged_list.info()"
   ]
  },
  {
   "cell_type": "code",
   "execution_count": 72,
   "id": "4c01c7d2-f5a4-4968-b3f2-ec4d8972c883",
   "metadata": {
    "tags": []
   },
   "outputs": [
    {
     "name": "stdout",
     "output_type": "stream",
     "text": [
      "<class 'pandas.core.frame.DataFrame'>\n",
      "RangeIndex: 12 entries, 0 to 11\n",
      "Data columns (total 2 columns):\n",
      " #   Column                  Non-Null Count  Dtype \n",
      "---  ------                  --------------  ----- \n",
      " 0   latimes_make_and_model  12 non-null     object\n",
      " 1   accidents               12 non-null     int64 \n",
      "dtypes: int64(1), object(1)\n",
      "memory usage: 320.0+ bytes\n"
     ]
    }
   ],
   "source": [
    "accident_counts.info()"
   ]
  },
  {
   "cell_type": "code",
   "execution_count": 74,
   "id": "57de7879-aa75-4213-8116-4df30e904613",
   "metadata": {
    "tags": []
   },
   "outputs": [],
   "source": [
    "merged_list['per_hour'] = merged_list['accidents'] / merged_list['total_hours']"
   ]
  },
  {
   "cell_type": "code",
   "execution_count": 75,
   "id": "24c59c11-b0e0-4031-9011-069508a6775d",
   "metadata": {
    "tags": []
   },
   "outputs": [
    {
     "data": {
      "text/plain": [
       "0    5.522238e-06\n",
       "1    9.489593e-07\n",
       "2    4.521838e-06\n",
       "3    7.467510e-06\n",
       "4    5.453249e-06\n",
       "Name: per_hour, dtype: float64"
      ]
     },
     "execution_count": 75,
     "metadata": {},
     "output_type": "execute_result"
    }
   ],
   "source": [
    "merged_list['per_hour'].head()"
   ]
  },
  {
   "cell_type": "code",
   "execution_count": 76,
   "id": "5dc38248-4ddf-49f0-9f35-fa30ab835116",
   "metadata": {
    "tags": []
   },
   "outputs": [],
   "source": [
    "merged_list['per_100k_hours'] = merged_list['per_hour'] * 100_000"
   ]
  },
  {
   "cell_type": "code",
   "execution_count": 77,
   "id": "c5a28d02-f4e7-4b12-98c2-0885610d9f83",
   "metadata": {
    "tags": []
   },
   "outputs": [
    {
     "data": {
      "text/plain": [
       "0    0.552224\n",
       "1    0.094896\n",
       "2    0.452184\n",
       "3    0.746751\n",
       "4    0.545325\n",
       "Name: per_100k_hours, dtype: float64"
      ]
     },
     "execution_count": 77,
     "metadata": {},
     "output_type": "execute_result"
    }
   ],
   "source": [
    "merged_list['per_100k_hours'].head()"
   ]
  },
  {
   "cell_type": "code",
   "execution_count": 78,
   "id": "23f3af22-4f2a-4d15-8b4e-3680fcc5f7e0",
   "metadata": {
    "tags": []
   },
   "outputs": [
    {
     "data": {
      "text/html": [
       "<div>\n",
       "<style scoped>\n",
       "    .dataframe tbody tr th:only-of-type {\n",
       "        vertical-align: middle;\n",
       "    }\n",
       "\n",
       "    .dataframe tbody tr th {\n",
       "        vertical-align: top;\n",
       "    }\n",
       "\n",
       "    .dataframe thead th {\n",
       "        text-align: right;\n",
       "    }\n",
       "</style>\n",
       "<table border=\"1\" class=\"dataframe\">\n",
       "  <thead>\n",
       "    <tr style=\"text-align: right;\">\n",
       "      <th></th>\n",
       "      <th>latimes_make_and_model</th>\n",
       "      <th>accidents</th>\n",
       "      <th>total_hours</th>\n",
       "      <th>per_hour</th>\n",
       "      <th>per_100k_hours</th>\n",
       "    </tr>\n",
       "  </thead>\n",
       "  <tbody>\n",
       "    <tr>\n",
       "      <th>1</th>\n",
       "      <td>AIRBUS 130</td>\n",
       "      <td>1</td>\n",
       "      <td>1053786</td>\n",
       "      <td>9.489593e-07</td>\n",
       "      <td>0.094896</td>\n",
       "    </tr>\n",
       "    <tr>\n",
       "      <th>11</th>\n",
       "      <td>SIKORSKY 76</td>\n",
       "      <td>2</td>\n",
       "      <td>915515</td>\n",
       "      <td>2.184563e-06</td>\n",
       "      <td>0.218456</td>\n",
       "    </tr>\n",
       "    <tr>\n",
       "      <th>10</th>\n",
       "      <td>SCHWEIZER 269</td>\n",
       "      <td>5</td>\n",
       "      <td>1139326</td>\n",
       "      <td>4.388560e-06</td>\n",
       "      <td>0.438856</td>\n",
       "    </tr>\n",
       "    <tr>\n",
       "      <th>2</th>\n",
       "      <td>AIRBUS 135</td>\n",
       "      <td>4</td>\n",
       "      <td>884596</td>\n",
       "      <td>4.521838e-06</td>\n",
       "      <td>0.452184</td>\n",
       "    </tr>\n",
       "    <tr>\n",
       "      <th>4</th>\n",
       "      <td>BELL 206</td>\n",
       "      <td>30</td>\n",
       "      <td>5501308</td>\n",
       "      <td>5.453249e-06</td>\n",
       "      <td>0.545325</td>\n",
       "    </tr>\n",
       "    <tr>\n",
       "      <th>0</th>\n",
       "      <td>AGUSTA 109</td>\n",
       "      <td>2</td>\n",
       "      <td>362172</td>\n",
       "      <td>5.522238e-06</td>\n",
       "      <td>0.552224</td>\n",
       "    </tr>\n",
       "    <tr>\n",
       "      <th>5</th>\n",
       "      <td>BELL 407</td>\n",
       "      <td>13</td>\n",
       "      <td>2113788</td>\n",
       "      <td>6.150096e-06</td>\n",
       "      <td>0.615010</td>\n",
       "    </tr>\n",
       "    <tr>\n",
       "      <th>8</th>\n",
       "      <td>ROBINSON R22</td>\n",
       "      <td>20</td>\n",
       "      <td>2970806</td>\n",
       "      <td>6.732180e-06</td>\n",
       "      <td>0.673218</td>\n",
       "    </tr>\n",
       "    <tr>\n",
       "      <th>3</th>\n",
       "      <td>AIRBUS 350</td>\n",
       "      <td>29</td>\n",
       "      <td>3883490</td>\n",
       "      <td>7.467510e-06</td>\n",
       "      <td>0.746751</td>\n",
       "    </tr>\n",
       "    <tr>\n",
       "      <th>6</th>\n",
       "      <td>HUGHES 369</td>\n",
       "      <td>13</td>\n",
       "      <td>1201688</td>\n",
       "      <td>1.081812e-05</td>\n",
       "      <td>1.081812</td>\n",
       "    </tr>\n",
       "    <tr>\n",
       "      <th>7</th>\n",
       "      <td>MCDONNELL DOUGLAS 369</td>\n",
       "      <td>6</td>\n",
       "      <td>550689</td>\n",
       "      <td>1.089544e-05</td>\n",
       "      <td>1.089544</td>\n",
       "    </tr>\n",
       "    <tr>\n",
       "      <th>9</th>\n",
       "      <td>ROBINSON R44</td>\n",
       "      <td>38</td>\n",
       "      <td>2359729</td>\n",
       "      <td>1.610354e-05</td>\n",
       "      <td>1.610354</td>\n",
       "    </tr>\n",
       "  </tbody>\n",
       "</table>\n",
       "</div>"
      ],
      "text/plain": [
       "   latimes_make_and_model  accidents  total_hours      per_hour   \n",
       "1              AIRBUS 130          1      1053786  9.489593e-07  \\\n",
       "11            SIKORSKY 76          2       915515  2.184563e-06   \n",
       "10          SCHWEIZER 269          5      1139326  4.388560e-06   \n",
       "2              AIRBUS 135          4       884596  4.521838e-06   \n",
       "4                BELL 206         30      5501308  5.453249e-06   \n",
       "0              AGUSTA 109          2       362172  5.522238e-06   \n",
       "5                BELL 407         13      2113788  6.150096e-06   \n",
       "8            ROBINSON R22         20      2970806  6.732180e-06   \n",
       "3              AIRBUS 350         29      3883490  7.467510e-06   \n",
       "6              HUGHES 369         13      1201688  1.081812e-05   \n",
       "7   MCDONNELL DOUGLAS 369          6       550689  1.089544e-05   \n",
       "9            ROBINSON R44         38      2359729  1.610354e-05   \n",
       "\n",
       "    per_100k_hours  \n",
       "1         0.094896  \n",
       "11        0.218456  \n",
       "10        0.438856  \n",
       "2         0.452184  \n",
       "4         0.545325  \n",
       "0         0.552224  \n",
       "5         0.615010  \n",
       "8         0.673218  \n",
       "3         0.746751  \n",
       "6         1.081812  \n",
       "7         1.089544  \n",
       "9         1.610354  "
      ]
     },
     "execution_count": 78,
     "metadata": {},
     "output_type": "execute_result"
    }
   ],
   "source": [
    "merged_list.sort_values(\"per_100k_hours\")"
   ]
  },
  {
   "cell_type": "code",
   "execution_count": 79,
   "id": "1c0ae120-f197-432b-b5d0-b67e38d1add3",
   "metadata": {
    "tags": []
   },
   "outputs": [
    {
     "data": {
      "text/html": [
       "<div>\n",
       "<style scoped>\n",
       "    .dataframe tbody tr th:only-of-type {\n",
       "        vertical-align: middle;\n",
       "    }\n",
       "\n",
       "    .dataframe tbody tr th {\n",
       "        vertical-align: top;\n",
       "    }\n",
       "\n",
       "    .dataframe thead th {\n",
       "        text-align: right;\n",
       "    }\n",
       "</style>\n",
       "<table border=\"1\" class=\"dataframe\">\n",
       "  <thead>\n",
       "    <tr style=\"text-align: right;\">\n",
       "      <th></th>\n",
       "      <th>latimes_make_and_model</th>\n",
       "      <th>accidents</th>\n",
       "      <th>total_hours</th>\n",
       "      <th>per_hour</th>\n",
       "      <th>per_100k_hours</th>\n",
       "    </tr>\n",
       "  </thead>\n",
       "  <tbody>\n",
       "    <tr>\n",
       "      <th>9</th>\n",
       "      <td>ROBINSON R44</td>\n",
       "      <td>38</td>\n",
       "      <td>2359729</td>\n",
       "      <td>1.610354e-05</td>\n",
       "      <td>1.610354</td>\n",
       "    </tr>\n",
       "    <tr>\n",
       "      <th>7</th>\n",
       "      <td>MCDONNELL DOUGLAS 369</td>\n",
       "      <td>6</td>\n",
       "      <td>550689</td>\n",
       "      <td>1.089544e-05</td>\n",
       "      <td>1.089544</td>\n",
       "    </tr>\n",
       "    <tr>\n",
       "      <th>6</th>\n",
       "      <td>HUGHES 369</td>\n",
       "      <td>13</td>\n",
       "      <td>1201688</td>\n",
       "      <td>1.081812e-05</td>\n",
       "      <td>1.081812</td>\n",
       "    </tr>\n",
       "    <tr>\n",
       "      <th>3</th>\n",
       "      <td>AIRBUS 350</td>\n",
       "      <td>29</td>\n",
       "      <td>3883490</td>\n",
       "      <td>7.467510e-06</td>\n",
       "      <td>0.746751</td>\n",
       "    </tr>\n",
       "    <tr>\n",
       "      <th>8</th>\n",
       "      <td>ROBINSON R22</td>\n",
       "      <td>20</td>\n",
       "      <td>2970806</td>\n",
       "      <td>6.732180e-06</td>\n",
       "      <td>0.673218</td>\n",
       "    </tr>\n",
       "    <tr>\n",
       "      <th>5</th>\n",
       "      <td>BELL 407</td>\n",
       "      <td>13</td>\n",
       "      <td>2113788</td>\n",
       "      <td>6.150096e-06</td>\n",
       "      <td>0.615010</td>\n",
       "    </tr>\n",
       "    <tr>\n",
       "      <th>0</th>\n",
       "      <td>AGUSTA 109</td>\n",
       "      <td>2</td>\n",
       "      <td>362172</td>\n",
       "      <td>5.522238e-06</td>\n",
       "      <td>0.552224</td>\n",
       "    </tr>\n",
       "    <tr>\n",
       "      <th>4</th>\n",
       "      <td>BELL 206</td>\n",
       "      <td>30</td>\n",
       "      <td>5501308</td>\n",
       "      <td>5.453249e-06</td>\n",
       "      <td>0.545325</td>\n",
       "    </tr>\n",
       "    <tr>\n",
       "      <th>2</th>\n",
       "      <td>AIRBUS 135</td>\n",
       "      <td>4</td>\n",
       "      <td>884596</td>\n",
       "      <td>4.521838e-06</td>\n",
       "      <td>0.452184</td>\n",
       "    </tr>\n",
       "    <tr>\n",
       "      <th>10</th>\n",
       "      <td>SCHWEIZER 269</td>\n",
       "      <td>5</td>\n",
       "      <td>1139326</td>\n",
       "      <td>4.388560e-06</td>\n",
       "      <td>0.438856</td>\n",
       "    </tr>\n",
       "    <tr>\n",
       "      <th>11</th>\n",
       "      <td>SIKORSKY 76</td>\n",
       "      <td>2</td>\n",
       "      <td>915515</td>\n",
       "      <td>2.184563e-06</td>\n",
       "      <td>0.218456</td>\n",
       "    </tr>\n",
       "    <tr>\n",
       "      <th>1</th>\n",
       "      <td>AIRBUS 130</td>\n",
       "      <td>1</td>\n",
       "      <td>1053786</td>\n",
       "      <td>9.489593e-07</td>\n",
       "      <td>0.094896</td>\n",
       "    </tr>\n",
       "  </tbody>\n",
       "</table>\n",
       "</div>"
      ],
      "text/plain": [
       "   latimes_make_and_model  accidents  total_hours      per_hour   \n",
       "9            ROBINSON R44         38      2359729  1.610354e-05  \\\n",
       "7   MCDONNELL DOUGLAS 369          6       550689  1.089544e-05   \n",
       "6              HUGHES 369         13      1201688  1.081812e-05   \n",
       "3              AIRBUS 350         29      3883490  7.467510e-06   \n",
       "8            ROBINSON R22         20      2970806  6.732180e-06   \n",
       "5                BELL 407         13      2113788  6.150096e-06   \n",
       "0              AGUSTA 109          2       362172  5.522238e-06   \n",
       "4                BELL 206         30      5501308  5.453249e-06   \n",
       "2              AIRBUS 135          4       884596  4.521838e-06   \n",
       "10          SCHWEIZER 269          5      1139326  4.388560e-06   \n",
       "11            SIKORSKY 76          2       915515  2.184563e-06   \n",
       "1              AIRBUS 130          1      1053786  9.489593e-07   \n",
       "\n",
       "    per_100k_hours  \n",
       "9         1.610354  \n",
       "7         1.089544  \n",
       "6         1.081812  \n",
       "3         0.746751  \n",
       "8         0.673218  \n",
       "5         0.615010  \n",
       "0         0.552224  \n",
       "4         0.545325  \n",
       "2         0.452184  \n",
       "10        0.438856  \n",
       "11        0.218456  \n",
       "1         0.094896  "
      ]
     },
     "execution_count": 79,
     "metadata": {},
     "output_type": "execute_result"
    }
   ],
   "source": [
    "merged_list.sort_values(\"per_100k_hours\", ascending=False)"
   ]
  },
  {
   "cell_type": "code",
   "execution_count": 80,
   "id": "0e26fd0c-a912-4214-9a6a-5258885d9d5b",
   "metadata": {
    "tags": []
   },
   "outputs": [
    {
     "ename": "ModuleNotFoundError",
     "evalue": "No module named 'altair'",
     "output_type": "error",
     "traceback": [
      "\u001b[1;31m---------------------------------------------------------------------------\u001b[0m",
      "\u001b[1;31mModuleNotFoundError\u001b[0m                       Traceback (most recent call last)",
      "Cell \u001b[1;32mIn[80], line 1\u001b[0m\n\u001b[1;32m----> 1\u001b[0m \u001b[38;5;28;01mimport\u001b[39;00m \u001b[38;5;21;01maltair\u001b[39;00m \u001b[38;5;28;01mas\u001b[39;00m \u001b[38;5;21;01malt\u001b[39;00m\n",
      "\u001b[1;31mModuleNotFoundError\u001b[0m: No module named 'altair'"
     ]
    }
   ],
   "source": []
  },
  {
   "cell_type": "code",
   "execution_count": null,
   "id": "e00d5ff8-ec4a-4341-9e45-7dd4b0fbce50",
   "metadata": {},
   "outputs": [],
   "source": []
  }
 ],
 "metadata": {
  "kernelspec": {
   "display_name": "Python 3 (ipykernel)",
   "language": "python",
   "name": "python3"
  },
  "language_info": {
   "codemirror_mode": {
    "name": "ipython",
    "version": 3
   },
   "file_extension": ".py",
   "mimetype": "text/x-python",
   "name": "python",
   "nbconvert_exporter": "python",
   "pygments_lexer": "ipython3",
   "version": "3.8.16"
  }
 },
 "nbformat": 4,
 "nbformat_minor": 5
}
